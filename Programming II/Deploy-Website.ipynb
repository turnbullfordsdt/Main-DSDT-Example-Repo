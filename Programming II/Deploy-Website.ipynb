{
 "cells": [
  {
   "cell_type": "code",
   "execution_count": null,
   "id": "8e623ec6",
   "metadata": {},
   "outputs": [],
   "source": [
    "from flask import render_template\n",
    "\n",
    "# create a route function\n",
    "def skibidi():\n",
    "    \n",
    "    # create the actual html script\n",
    "\n",
    "    # create the templates folder\n",
    "\n",
    "    # specify the file name\n",
    "    template_file_name = 'index.html'\n",
    "\n",
    "    # create the HTML string\n",
    "    HTML_string = render_template(template_file_name)\n",
    "\n",
    "    # display(HTML_string)\n",
    "\n",
    "    return HTML_string"
   ]
  },
  {
   "cell_type": "code",
   "execution_count": 6,
   "id": "bdefb814",
   "metadata": {},
   "outputs": [
    {
     "name": "stdout",
     "output_type": "stream",
     "text": [
      " * Serving Flask app '__main__'\n",
      " * Debug mode: off\n"
     ]
    },
    {
     "name": "stderr",
     "output_type": "stream",
     "text": [
      "WARNING: This is a development server. Do not use it in a production deployment. Use a production WSGI server instead.\n",
      " * Running on http://127.0.0.1:5000\n",
      "Press CTRL+C to quit\n"
     ]
    },
    {
     "data": {
      "text/plain": [
       "''"
      ]
     },
     "metadata": {},
     "output_type": "display_data"
    },
    {
     "name": "stderr",
     "output_type": "stream",
     "text": [
      "127.0.0.1 - - [02/Sep/2025 18:06:55] \"GET / HTTP/1.1\" 200 -\n"
     ]
    }
   ],
   "source": [
    "#use the flask library\n",
    "from flask import Flask \n",
    "\n",
    "# create an import name \n",
    "import_name = __name__\n",
    "\n",
    "# create a flask app instance\n",
    "app = Flask(import_name=import_name) \n",
    "\n",
    "# create the default route string\n",
    "default_route_string = '/'\n",
    "\n",
    "# create a route connector function associated with your route string\n",
    "route_connector_function = app.route(default_route_string)\n",
    "\n",
    "# create the fully connected functional web route\n",
    "route_connector_function(skibidi)\n",
    "\n",
    "# create the actual running website! - DONE\n",
    "app.run()"
   ]
  }
 ],
 "metadata": {
  "kernelspec": {
   "display_name": "Python 3",
   "language": "python",
   "name": "python3"
  },
  "language_info": {
   "codemirror_mode": {
    "name": "ipython",
    "version": 3
   },
   "file_extension": ".py",
   "mimetype": "text/x-python",
   "name": "python",
   "nbconvert_exporter": "python",
   "pygments_lexer": "ipython3",
   "version": "3.12.1"
  }
 },
 "nbformat": 4,
 "nbformat_minor": 5
}
