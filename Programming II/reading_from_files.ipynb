{
 "cells": [
  {
   "cell_type": "code",
   "execution_count": null,
   "id": "291e0681",
   "metadata": {},
   "outputs": [],
   "source": []
  },
  {
   "cell_type": "code",
   "execution_count": 44,
   "id": "1122bd5b",
   "metadata": {},
   "outputs": [],
   "source": [
    "file_path = \"/workspaces/Main-DSDT-Example-Repo/ex_file (3).json\"\n",
    "\n",
    "file_pointer = open(file_path)"
   ]
  },
  {
   "cell_type": "code",
   "execution_count": 45,
   "id": "bb75a9cd",
   "metadata": {},
   "outputs": [],
   "source": [
    "import json\n",
    "\n",
    "my_dict_list_object = json.load(file_pointer)"
   ]
  },
  {
   "cell_type": "code",
   "execution_count": 46,
   "id": "0448a8bf",
   "metadata": {},
   "outputs": [
    {
     "data": {
      "text/plain": [
       "'/workspaces/Main-DSDT-Example-Repo/ex_file (3).json'"
      ]
     },
     "metadata": {},
     "output_type": "display_data"
    },
    {
     "data": {
      "text/plain": [
       "str"
      ]
     },
     "metadata": {},
     "output_type": "display_data"
    }
   ],
   "source": [
    "display(file_path)\n",
    "\n",
    "display(type(file_path))"
   ]
  },
  {
   "cell_type": "code",
   "execution_count": 47,
   "id": "1ef1a7fd",
   "metadata": {},
   "outputs": [
    {
     "data": {
      "text/plain": [
       "<_io.TextIOWrapper name='/workspaces/Main-DSDT-Example-Repo/ex_file (3).json' mode='r' encoding='UTF-8'>"
      ]
     },
     "metadata": {},
     "output_type": "display_data"
    },
    {
     "data": {
      "text/plain": [
       "_io.TextIOWrapper"
      ]
     },
     "metadata": {},
     "output_type": "display_data"
    }
   ],
   "source": [
    "display(file_pointer)\n",
    "\n",
    "\n",
    "display(type(file_pointer))"
   ]
  },
  {
   "cell_type": "code",
   "execution_count": 48,
   "id": "dc8d36c7",
   "metadata": {},
   "outputs": [
    {
     "data": {
      "text/plain": [
       "{'_id': '64a1f90f9b1d8c1c0d1e3a01',\n",
       " 'name': 'Alice Johnson',\n",
       " 'email': 'alice@example.com',\n",
       " 'age': 34,\n",
       " 'is_active': True,\n",
       " 'roles': ['admin', 'editor'],\n",
       " 'created_at': '2023-06-01T12:34:56Z'}"
      ]
     },
     "metadata": {},
     "output_type": "display_data"
    }
   ],
   "source": [
    "display(my_dict_list_object)"
   ]
  },
  {
   "cell_type": "code",
   "execution_count": 49,
   "id": "2ba8bfe4",
   "metadata": {},
   "outputs": [
    {
     "data": {
      "text/plain": [
       "dict"
      ]
     },
     "metadata": {},
     "output_type": "display_data"
    }
   ],
   "source": [
    "display(type(my_dict_list_object))"
   ]
  },
  {
   "cell_type": "code",
   "execution_count": 51,
   "id": "5d8360d2",
   "metadata": {},
   "outputs": [],
   "source": [
    "from pandas import read_json\n",
    "\n",
    "\n",
    "my_dataset = read_json(file_path)"
   ]
  },
  {
   "cell_type": "code",
   "execution_count": 52,
   "id": "366c070a",
   "metadata": {},
   "outputs": [
    {
     "data": {
      "text/html": [
       "<div>\n",
       "<style scoped>\n",
       "    .dataframe tbody tr th:only-of-type {\n",
       "        vertical-align: middle;\n",
       "    }\n",
       "\n",
       "    .dataframe tbody tr th {\n",
       "        vertical-align: top;\n",
       "    }\n",
       "\n",
       "    .dataframe thead th {\n",
       "        text-align: right;\n",
       "    }\n",
       "</style>\n",
       "<table border=\"1\" class=\"dataframe\">\n",
       "  <thead>\n",
       "    <tr style=\"text-align: right;\">\n",
       "      <th></th>\n",
       "      <th>_id</th>\n",
       "      <th>name</th>\n",
       "      <th>email</th>\n",
       "      <th>age</th>\n",
       "      <th>is_active</th>\n",
       "      <th>roles</th>\n",
       "      <th>created_at</th>\n",
       "    </tr>\n",
       "  </thead>\n",
       "  <tbody>\n",
       "    <tr>\n",
       "      <th>0</th>\n",
       "      <td>64a1f90f9b1d8c1c0d1e3a01</td>\n",
       "      <td>Alice Johnson</td>\n",
       "      <td>alice@example.com</td>\n",
       "      <td>34</td>\n",
       "      <td>True</td>\n",
       "      <td>[admin, editor]</td>\n",
       "      <td>2023-06-01 12:34:56+00:00</td>\n",
       "    </tr>\n",
       "    <tr>\n",
       "      <th>1</th>\n",
       "      <td>64a1f90f9b1d8c1c0d1e3a02</td>\n",
       "      <td>Bob Smith</td>\n",
       "      <td>bob@example.com</td>\n",
       "      <td>29</td>\n",
       "      <td>False</td>\n",
       "      <td>[viewer]</td>\n",
       "      <td>2023-07-15 08:22:30+00:00</td>\n",
       "    </tr>\n",
       "    <tr>\n",
       "      <th>2</th>\n",
       "      <td>64a1f90f9b1d8c1c0d1e3a03</td>\n",
       "      <td>Carol Davis</td>\n",
       "      <td>carol@example.com</td>\n",
       "      <td>41</td>\n",
       "      <td>True</td>\n",
       "      <td>[editor]</td>\n",
       "      <td>2023-05-10 16:00:00+00:00</td>\n",
       "    </tr>\n",
       "    <tr>\n",
       "      <th>3</th>\n",
       "      <td>64a1f90f9b1d8c1c0d1e3a04</td>\n",
       "      <td>David Lee</td>\n",
       "      <td>david@example.com</td>\n",
       "      <td>22</td>\n",
       "      <td>True</td>\n",
       "      <td>[viewer, commenter]</td>\n",
       "      <td>2023-08-20 10:15:10+00:00</td>\n",
       "    </tr>\n",
       "    <tr>\n",
       "      <th>4</th>\n",
       "      <td>64a1f90f9b1d8c1c0d1e3a05</td>\n",
       "      <td>Ella Martin</td>\n",
       "      <td>ella@example.com</td>\n",
       "      <td>37</td>\n",
       "      <td>False</td>\n",
       "      <td>[admin]</td>\n",
       "      <td>2023-03-12 14:45:00+00:00</td>\n",
       "    </tr>\n",
       "  </tbody>\n",
       "</table>\n",
       "</div>"
      ],
      "text/plain": [
       "                        _id  ...                created_at\n",
       "0  64a1f90f9b1d8c1c0d1e3a01  ... 2023-06-01 12:34:56+00:00\n",
       "1  64a1f90f9b1d8c1c0d1e3a02  ... 2023-07-15 08:22:30+00:00\n",
       "2  64a1f90f9b1d8c1c0d1e3a03  ... 2023-05-10 16:00:00+00:00\n",
       "3  64a1f90f9b1d8c1c0d1e3a04  ... 2023-08-20 10:15:10+00:00\n",
       "4  64a1f90f9b1d8c1c0d1e3a05  ... 2023-03-12 14:45:00+00:00\n",
       "\n",
       "[5 rows x 7 columns]"
      ]
     },
     "metadata": {},
     "output_type": "display_data"
    }
   ],
   "source": [
    "display(my_dataset)"
   ]
  },
  {
   "cell_type": "code",
   "execution_count": 53,
   "id": "c432e1ff",
   "metadata": {},
   "outputs": [
    {
     "data": {
      "text/plain": [
       "pandas.core.frame.DataFrame"
      ]
     },
     "metadata": {},
     "output_type": "display_data"
    }
   ],
   "source": [
    "display(type(my_dataset))"
   ]
  }
 ],
 "metadata": {
  "kernelspec": {
   "display_name": "Python 3",
   "language": "python",
   "name": "python3"
  },
  "language_info": {
   "codemirror_mode": {
    "name": "ipython",
    "version": 3
   },
   "file_extension": ".py",
   "mimetype": "text/x-python",
   "name": "python",
   "nbconvert_exporter": "python",
   "pygments_lexer": "ipython3",
   "version": "3.12.1"
  }
 },
 "nbformat": 4,
 "nbformat_minor": 5
}
