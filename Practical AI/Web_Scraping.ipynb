{
  "nbformat": 4,
  "nbformat_minor": 0,
  "metadata": {
    "colab": {
      "provenance": [],
      "authorship_tag": "ABX9TyOUUmjbMTtjJhHr++/KSejN",
      "include_colab_link": true
    },
    "kernelspec": {
      "name": "python3",
      "display_name": "Python 3"
    },
    "language_info": {
      "name": "python"
    }
  },
  "cells": [
    {
      "cell_type": "markdown",
      "metadata": {
        "id": "view-in-github",
        "colab_type": "text"
      },
      "source": [
        "<a href=\"https://colab.research.google.com/github/turnbullfordsdt/Main-DSDT-Example-Repo/blob/main/Practical%20AI/Web_Scraping.ipynb\" target=\"_parent\"><img src=\"https://colab.research.google.com/assets/colab-badge.svg\" alt=\"Open In Colab\"/></a>"
      ]
    },
    {
      "cell_type": "code",
      "execution_count": 150,
      "metadata": {
        "id": "MAr8nOGkI6bp"
      },
      "outputs": [],
      "source": [
        "import requests\n",
        "from bs4 import BeautifulSoup\n"
      ]
    },
    {
      "cell_type": "code",
      "source": [
        "url = \"https://www.bls.gov/ooh/math/data-scientists.htm#tab-1\""
      ],
      "metadata": {
        "id": "A_IE24t8PZm1"
      },
      "execution_count": 151,
      "outputs": []
    },
    {
      "cell_type": "code",
      "source": [
        "# I NEED TO ADD EXCESSIVE HEADERS TO PROVE THAT I'M NOT A BOT\n",
        "\n",
        "\n",
        "headers = {\n",
        "    \"User-Agent\": \"Mozilla/5.0 (Windows NT 10.0; Win64; x64) \"\n",
        "                  \"AppleWebKit/537.36 (KHTML, like Gecko) \"\n",
        "                  \"Chrome/139.0.0.0 Safari/537.36\",\n",
        "    \"Accept\": \"text/html,application/xhtml+xml,application/xml;q=0.9,image/webp,*/*;q=0.8\",\n",
        "    \"Accept-Language\": \"en-US,en;q=0.9\",\n",
        "    \"Accept-Encoding\": \"gzip, deflate, br\",\n",
        "    \"Connection\": \"keep-alive\",\n",
        "    \"Referer\": \"https://www.google.com/\",\n",
        "    \"Upgrade-Insecure-Requests\": \"1\",\n",
        "    \"Sec-Fetch-Dest\": \"document\",\n",
        "    \"Sec-Fetch-Mode\": \"navigate\",\n",
        "    \"Sec-Fetch-Site\": \"same-origin\",\n",
        "    \"Sec-Fetch-User\": \"?1\",\n",
        "    \"Cache-Control\": \"max-age=0\"\n",
        "}\n"
      ],
      "metadata": {
        "id": "lgL_G_37PYTK"
      },
      "execution_count": 152,
      "outputs": []
    },
    {
      "cell_type": "code",
      "source": [
        "response = requests.get(url, headers=headers)\n",
        "\n",
        "display(response)\n",
        "\n"
      ],
      "metadata": {
        "id": "fmLnO9RqCSfV"
      },
      "execution_count": null,
      "outputs": []
    },
    {
      "cell_type": "code",
      "source": [
        "raw_text = response.text\n",
        "\n",
        "display(raw_text)\n",
        "\n"
      ],
      "metadata": {
        "id": "VXivtQ5ACTkM"
      },
      "execution_count": null,
      "outputs": []
    },
    {
      "cell_type": "code",
      "source": [
        "soup_object = BeautifulSoup(markup = raw_text)\n",
        "\n",
        "display(soup_object)"
      ],
      "metadata": {
        "id": "hikKhdejCWhW"
      },
      "execution_count": null,
      "outputs": []
    },
    {
      "cell_type": "code",
      "source": [
        "tag = 'div'\n",
        "attribute = 'id'\n",
        "value = 'tab-1'\n",
        "\n",
        "element_css_desc_string = f\"{tag}[{attribute} = '{value}']\"\n",
        "\n",
        "display(element_css_desc_string)\n",
        "\n"
      ],
      "metadata": {
        "id": "5IybrPqzmj8K"
      },
      "execution_count": null,
      "outputs": []
    },
    {
      "cell_type": "code",
      "source": [
        "element_list = soup_object.select(element_css_desc_string)\n",
        "\n",
        "display(element_list)"
      ],
      "metadata": {
        "id": "tY9-BzNYMNi6"
      },
      "execution_count": null,
      "outputs": []
    },
    {
      "cell_type": "code",
      "source": [
        "\n",
        "index = 0 # not a novel concept\n",
        "\n",
        "individual_soup_element = element_list[index]\n",
        "\n",
        "display(individual_soup_element)"
      ],
      "metadata": {
        "id": "YL1JCnOBNA5Z"
      },
      "execution_count": null,
      "outputs": []
    },
    {
      "cell_type": "code",
      "source": [
        "stripit = True\n",
        "\n",
        "internal_text = individual_soup_element.get_text(strip = stripit)\n",
        "\n",
        "display(internal_text)"
      ],
      "metadata": {
        "id": "kFWU0oWiN0Qr"
      },
      "execution_count": null,
      "outputs": []
    },
    {
      "cell_type": "code",
      "source": [
        "splitter = ' '\n",
        "\n",
        "text_section_list = internal_text.split(splitter)\n",
        "\n",
        "display(text_section_list)"
      ],
      "metadata": {
        "id": "NQX3k_ZxOdLL"
      },
      "execution_count": null,
      "outputs": []
    },
    {
      "cell_type": "code",
      "source": [
        "sub_text = text_section_list[0]\n",
        "print(sub_text)  # \"$112,590\""
      ],
      "metadata": {
        "id": "yZ9Tkt4JNvCq"
      },
      "execution_count": null,
      "outputs": []
    }
  ]
}