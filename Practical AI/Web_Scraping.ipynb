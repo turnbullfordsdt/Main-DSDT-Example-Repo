{
  "nbformat": 4,
  "nbformat_minor": 0,
  "metadata": {
    "colab": {
      "provenance": [],
      "authorship_tag": "ABX9TyPCDqtgs19auKhLMQSvCKHH",
      "include_colab_link": true
    },
    "kernelspec": {
      "name": "python3",
      "display_name": "Python 3"
    },
    "language_info": {
      "name": "python"
    }
  },
  "cells": [
    {
      "cell_type": "markdown",
      "metadata": {
        "id": "view-in-github",
        "colab_type": "text"
      },
      "source": [
        "<a href=\"https://colab.research.google.com/github/turnbullfordsdt/Main-DSDT-Example-Repo/blob/main/Practical%20AI/Web_Scraping.ipynb\" target=\"_parent\"><img src=\"https://colab.research.google.com/assets/colab-badge.svg\" alt=\"Open In Colab\"/></a>"
      ]
    },
    {
      "cell_type": "code",
      "execution_count": null,
      "metadata": {
        "id": "MAr8nOGkI6bp"
      },
      "outputs": [],
      "source": [
        "import requests\n",
        "from bs4 import BeautifulSoup\n",
        "\n",
        "url = \"https://www.bls.gov/ooh/math/data-scientists.htm#tab-2\"\n",
        "\n",
        "\n",
        "# I NEED TO ADD EXCESSIVE HEADERS TO PROVE THAT I'M NOT A BOT\n",
        "\n",
        "\n",
        "headers = {\n",
        "    \"User-Agent\": \"Mozilla/5.0 (Windows NT 10.0; Win64; x64) \"\n",
        "                  \"AppleWebKit/537.36 (KHTML, like Gecko) \"\n",
        "                  \"Chrome/139.0.0.0 Safari/537.36\",\n",
        "    \"Accept\": \"text/html,application/xhtml+xml,application/xml;q=0.9,image/webp,*/*;q=0.8\",\n",
        "    \"Accept-Language\": \"en-US,en;q=0.9\",\n",
        "    \"Accept-Encoding\": \"gzip, deflate, br\",\n",
        "    \"Connection\": \"keep-alive\",\n",
        "    \"Referer\": \"https://www.google.com/\",\n",
        "    \"Upgrade-Insecure-Requests\": \"1\",\n",
        "    \"Sec-Fetch-Dest\": \"document\",\n",
        "    \"Sec-Fetch-Mode\": \"navigate\",\n",
        "    \"Sec-Fetch-Site\": \"same-origin\",\n",
        "    \"Sec-Fetch-User\": \"?1\",\n",
        "    \"Cache-Control\": \"max-age=0\"\n",
        "}\n",
        "\n",
        "response = requests.get(url, headers=headers)\n",
        "soup = BeautifulSoup(markup = response.text)\n",
        "\n",
        "# Find the table by ID\n"
      ]
    },
    {
      "cell_type": "code",
      "source": [
        "css_selector = 'tr>td'\n",
        "\n",
        "element_list = soup.select(css_selector)"
      ],
      "metadata": {
        "id": "5IybrPqzmj8K"
      },
      "execution_count": null,
      "outputs": []
    },
    {
      "cell_type": "code",
      "source": [
        "element = element_list[0]"
      ],
      "metadata": {
        "id": "ocC4GVWKl3Qi"
      },
      "execution_count": null,
      "outputs": []
    },
    {
      "cell_type": "code",
      "source": [
        "string = str(element)"
      ],
      "metadata": {
        "id": "TtS7Hc9ksAoz"
      },
      "execution_count": null,
      "outputs": []
    },
    {
      "cell_type": "code",
      "source": [
        "string_splitter = '$'\n",
        "\n",
        "string_split_list = string.split(string_splitter)"
      ],
      "metadata": {
        "id": "CzkVf1edsZrQ"
      },
      "execution_count": null,
      "outputs": []
    },
    {
      "cell_type": "code",
      "source": [
        "string_split_list"
      ],
      "metadata": {
        "colab": {
          "base_uri": "https://localhost:8080/"
        },
        "id": "6AQI8MbJwgLS",
        "outputId": "93913aa1-1286-4afa-ea70-e6dbfd1d2fdb"
      },
      "execution_count": null,
      "outputs": [
        {
          "output_type": "execute_result",
          "data": {
            "text/plain": [
              "['<td>\\r\\n                                        ',\n",
              " '112,590     per year\\r\\n                                        <br/>',\n",
              " '54.13     per hour\\r\\n                                    </td>']"
            ]
          },
          "metadata": {},
          "execution_count": 61
        }
      ]
    }
  ]
}