{
  "nbformat": 4,
  "nbformat_minor": 0,
  "metadata": {
    "colab": {
      "provenance": [],
      "authorship_tag": "ABX9TyO4QIjCPj8SS3K2JPfObWzP",
      "include_colab_link": true
    },
    "kernelspec": {
      "name": "python3",
      "display_name": "Python 3"
    },
    "language_info": {
      "name": "python"
    }
  },
  "cells": [
    {
      "cell_type": "markdown",
      "metadata": {
        "id": "view-in-github",
        "colab_type": "text"
      },
      "source": [
        "<a href=\"https://colab.research.google.com/github/turnbullfordsdt/Main-DSDT-Example-Repo/blob/main/Practical%20AI/API_Post_Requests.ipynb\" target=\"_parent\"><img src=\"https://colab.research.google.com/assets/colab-badge.svg\" alt=\"Open In Colab\"/></a>"
      ]
    },
    {
      "cell_type": "code",
      "execution_count": null,
      "metadata": {
        "id": "pXRload1-l3C"
      },
      "outputs": [],
      "source": [
        "import requests\n",
        "API_URL = \"https://api.example.com/data\"\n",
        "payload = {\"key1\": \"value1\", \"key2\": \"value2\"}\n",
        "response = requests.post(API_URL, json=payload)\n",
        "data = response.json()\n",
        "print(data)\n"
      ]
    }
  ]
}