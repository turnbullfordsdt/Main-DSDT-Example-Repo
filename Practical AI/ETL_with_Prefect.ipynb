{
  "nbformat": 4,
  "nbformat_minor": 0,
  "metadata": {
    "colab": {
      "provenance": [],
      "authorship_tag": "ABX9TyPoNSJupV980ortlQlJvZd2",
      "include_colab_link": true
    },
    "kernelspec": {
      "name": "python3",
      "display_name": "Python 3"
    },
    "language_info": {
      "name": "python"
    }
  },
  "cells": [
    {
      "cell_type": "markdown",
      "metadata": {
        "id": "view-in-github",
        "colab_type": "text"
      },
      "source": [
        "<a href=\"https://colab.research.google.com/github/turnbullfordsdt/Main-DSDT-Example-Repo/blob/main/Practical%20AI/ETL_with_Prefect.ipynb\" target=\"_parent\"><img src=\"https://colab.research.google.com/assets/colab-badge.svg\" alt=\"Open In Colab\"/></a>"
      ]
    },
    {
      "cell_type": "code",
      "execution_count": null,
      "metadata": {
        "id": "z2lD2pifWYng"
      },
      "outputs": [],
      "source": [
        "from prefect import flow, task\n",
        "import pandas as pd\n",
        "\n",
        "# Extract\n",
        "@task\n",
        "def extract():\n",
        "    return pd.read_csv(\"data/input.csv\")\n",
        "\n",
        "# Transform\n",
        "@task\n",
        "def transform(df):\n",
        "    df = df.dropna()\n",
        "    df['total'] = df['price'] * df['quantity']\n",
        "    return df\n",
        "\n",
        "# Load\n",
        "@task\n",
        "def load(df):\n",
        "    df.to_csv(\"data/output.csv\", index=False)\n",
        "    return \"Load complete\"\n",
        "\n",
        "# Flow\n",
        "@flow\n",
        "def etl_pipeline():\n",
        "    data = extract.submit()\n",
        "    transformed = transform.submit(data)\n",
        "    result = load.submit(transformed)\n",
        "    print(result.result())\n",
        "\n",
        "if __name__ == \"__main__\":\n",
        "    etl_pipeline()\n"
      ]
    },
    {
      "cell_type": "code",
      "source": [
        "#REMEMBER, A FUNCTION CAN ONLY HANDLE PROMISE/FUTURE OBJECT ARGUMENTS IF THE FUNCTION IS A TASK\n",
        "#OTHERWISE THE FUNCTION WOULD HAVE TO *AWAIT* THE PROMISE,\n",
        "# VIA EITHER THE AWAIT STATEMENT,\n",
        "# OR USING THE RESULT() METHOD FROM PREFECT\n",
        "# BUT THE SIMPLEST APPROACH IS TO CAST THE FUNC AS A TASK."
      ],
      "metadata": {
        "id": "nFuR1yzrYfqQ"
      },
      "execution_count": null,
      "outputs": []
    }
  ]
}