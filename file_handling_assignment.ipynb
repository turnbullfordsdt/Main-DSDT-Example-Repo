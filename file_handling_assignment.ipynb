{
 "cells": [
  {
   "cell_type": "code",
   "execution_count": null,
   "id": "8194bd5e",
   "metadata": {},
   "outputs": [],
   "source": [
    "from pandas import read_csv \n",
    "read_csv(\"/workspaces/Main-DSDT-Example-Repo/Data Science/kc_house_data-1 (8)-1.csv\")"
   ]
  }
 ],
 "metadata": {
  "language_info": {
   "name": "python"
  }
 },
 "nbformat": 4,
 "nbformat_minor": 5
}
