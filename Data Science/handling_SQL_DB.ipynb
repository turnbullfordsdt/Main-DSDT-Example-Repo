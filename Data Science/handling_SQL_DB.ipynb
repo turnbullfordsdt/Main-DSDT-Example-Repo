{
 "cells": [
  {
   "cell_type": "code",
   "execution_count": 60,
   "id": "88157e35",
   "metadata": {},
   "outputs": [],
   "source": [
    "from sqlite3 import connect\n",
    "\n",
    "my_database_object = connect(\"/workspaces/Main-DSDT-Example-Repo/Data Science/my_new_database.db\")"
   ]
  },
  {
   "cell_type": "code",
   "execution_count": null,
   "id": "c42ce472",
   "metadata": {},
   "outputs": [],
   "source": []
  },
  {
   "cell_type": "code",
   "execution_count": null,
   "id": "fcaf2a26",
   "metadata": {},
   "outputs": [],
   "source": [
    "my_query = \"SELECT category, AVG(price) as avg_price FROM products\"\n",
    "\n",
    "my_query += \" group by category\" # get the results PER category\n",
    "\n",
    "my_query += \" order by avg_price\" #order the results\n",
    "\n",
    "\n",
    "\n",
    "\n",
    "\n",
    "# my_query += \" where price > 70 or category = 'Home'\"\n",
    "\n",
    "\n",
    "\n",
    "# my_query += \" limit 1\""
   ]
  },
  {
   "cell_type": "code",
   "execution_count": 62,
   "id": "6876844e",
   "metadata": {},
   "outputs": [],
   "source": [
    "from pandas import read_sql\n",
    "my_df = read_sql(my_query, my_database_object)"
   ]
  },
  {
   "cell_type": "code",
   "execution_count": 63,
   "id": "20832989",
   "metadata": {},
   "outputs": [
    {
     "data": {
      "text/html": [
       "<div>\n",
       "<style scoped>\n",
       "    .dataframe tbody tr th:only-of-type {\n",
       "        vertical-align: middle;\n",
       "    }\n",
       "\n",
       "    .dataframe tbody tr th {\n",
       "        vertical-align: top;\n",
       "    }\n",
       "\n",
       "    .dataframe thead th {\n",
       "        text-align: right;\n",
       "    }\n",
       "</style>\n",
       "<table border=\"1\" class=\"dataframe\">\n",
       "  <thead>\n",
       "    <tr style=\"text-align: right;\">\n",
       "      <th></th>\n",
       "      <th>category</th>\n",
       "      <th>avg_price</th>\n",
       "    </tr>\n",
       "  </thead>\n",
       "  <tbody>\n",
       "    <tr>\n",
       "      <th>0</th>\n",
       "      <td>Outdoors</td>\n",
       "      <td>60.398333</td>\n",
       "    </tr>\n",
       "  </tbody>\n",
       "</table>\n",
       "</div>"
      ],
      "text/plain": [
       "   category  avg_price\n",
       "0  Outdoors  60.398333"
      ]
     },
     "metadata": {},
     "output_type": "display_data"
    }
   ],
   "source": [
    "display(my_df)"
   ]
  }
 ],
 "metadata": {
  "kernelspec": {
   "display_name": "Python 3",
   "language": "python",
   "name": "python3"
  },
  "language_info": {
   "codemirror_mode": {
    "name": "ipython",
    "version": 3
   },
   "file_extension": ".py",
   "mimetype": "text/x-python",
   "name": "python",
   "nbconvert_exporter": "python",
   "pygments_lexer": "ipython3",
   "version": "3.12.1"
  }
 },
 "nbformat": 4,
 "nbformat_minor": 5
}
