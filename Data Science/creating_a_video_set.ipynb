{
 "cells": [
  {
   "cell_type": "code",
   "execution_count": null,
   "id": "22acd0de",
   "metadata": {},
   "outputs": [],
   "source": [
    "custom_dataset_training_list = []\n",
    "\n",
    "training_labels = []"
   ]
  },
  {
   "cell_type": "code",
   "execution_count": 8,
   "id": "0f2ed79c",
   "metadata": {},
   "outputs": [
    {
     "ename": "ImportError",
     "evalue": "libGL.so.1: cannot open shared object file: No such file or directory",
     "output_type": "error",
     "traceback": [
      "\u001b[31m---------------------------------------------------------------------------\u001b[39m",
      "\u001b[31mImportError\u001b[39m                               Traceback (most recent call last)",
      "\u001b[36mCell\u001b[39m\u001b[36m \u001b[39m\u001b[32mIn[8]\u001b[39m\u001b[32m, line 1\u001b[39m\n\u001b[32m----> \u001b[39m\u001b[32m1\u001b[39m \u001b[38;5;28;01mimport\u001b[39;00m\u001b[38;5;250m \u001b[39m\u001b[34;01mcv2\u001b[39;00m\n\u001b[32m      3\u001b[39m image_file_path = \u001b[33m\"\u001b[39m\u001b[33m/workspaces/Main-DSDT-Example-Repo/Covid19-dataset/train/Covid/01.jpeg\u001b[39m\u001b[33m\"\u001b[39m\n\u001b[32m      5\u001b[39m img_numpy = cv2.imread(image_file_path)\n",
      "\u001b[31mImportError\u001b[39m: libGL.so.1: cannot open shared object file: No such file or directory"
     ]
    }
   ],
   "source": [
    "import cv2\n",
    "\n",
    "image_file_path = \"/workspaces/Main-DSDT-Example-Repo/Covid19-dataset/train/Covid/01.jpeg\"\n",
    "\n",
    "img_numpy = cv2.imread(image_file_path)\n",
    "\n",
    "img_numpy"
   ]
  }
 ],
 "metadata": {
  "kernelspec": {
   "display_name": "Python 3",
   "language": "python",
   "name": "python3"
  },
  "language_info": {
   "codemirror_mode": {
    "name": "ipython",
    "version": 3
   },
   "file_extension": ".py",
   "mimetype": "text/x-python",
   "name": "python",
   "nbconvert_exporter": "python",
   "pygments_lexer": "ipython3",
   "version": "3.12.1"
  }
 },
 "nbformat": 4,
 "nbformat_minor": 5
}
