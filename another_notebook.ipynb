{
 "cells": [
  {
   "cell_type": "code",
   "execution_count": null,
   "id": "b3f386e0",
   "metadata": {},
   "outputs": [],
   "source": [
    "print(\"hello everybody\")"
   ]
  }
 ],
 "metadata": {
  "language_info": {
   "name": "python"
  }
 },
 "nbformat": 4,
 "nbformat_minor": 5
}
