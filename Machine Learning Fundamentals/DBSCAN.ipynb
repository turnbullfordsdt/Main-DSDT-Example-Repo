{
 "cells": [
  {
   "cell_type": "code",
   "execution_count": 21,
   "id": "af751489",
   "metadata": {},
   "outputs": [],
   "source": [
    "from sklearn.cluster import DBSCAN\n",
    "from sklearn.datasets import make_moons\n",
    "import numpy as np"
   ]
  },
  {
   "cell_type": "code",
   "execution_count": 22,
   "id": "97c5952e",
   "metadata": {},
   "outputs": [],
   "source": [
    "# Generate crescent moons\n",
    "X, _ = make_moons(n_samples=400, noise=0.05, random_state=0)\n",
    "\n",
    "# Far outliers\n",
    "far_outliers = np.random.uniform(low=-2, high=3, size=(30, 2))\n",
    "\n",
    "# Partial outliers (near clusters)\n",
    "partial_outliers = np.random.normal(loc=[1.5, 1.0], scale=0.3, size=(30, 2))\n",
    "\n",
    "# Combine all points\n",
    "X_all = np.vstack([X, far_outliers, partial_outliers])"
   ]
  },
  {
   "cell_type": "code",
   "execution_count": null,
   "id": "37fbac79",
   "metadata": {},
   "outputs": [],
   "source": []
  },
  {
   "cell_type": "code",
   "execution_count": 23,
   "id": "9315d906",
   "metadata": {},
   "outputs": [],
   "source": [
    "from numpy import unique\n",
    "from sklearn.metrics import silhouette_score"
   ]
  },
  {
   "cell_type": "code",
   "execution_count": null,
   "id": "f6df3f49",
   "metadata": {},
   "outputs": [],
   "source": [
    "def objective(trial):\n",
    "\n",
    "    model = DBSCAN(eps=0.2, min_samples=5)\n",
    "\n",
    "    model.fit(X_all)\n",
    "\n",
    "    actual_clusters = model.labels_\n",
    "\n",
    "    # if desired for viewing\n",
    "    dbscan_outliers_indices = []\n",
    "\n",
    "    for index, sample_label in enumerate(model.labels_):\n",
    "        if sample_label == -1:\n",
    "            while sample_label in actual_clusters:\n",
    "                sample_label += 1 #UPDATING THE NEW label\n",
    "            actual_clusters[index] = sample_label #UPDATING THE ACTUAL CLUSTERS\n",
    "            dbscan_outliers_indices.append(index)\n",
    "\n",
    "    score = silhouette_score(X_all, actual_clusters)\n",
    "\n",
    "    outlier_frame = X_all[dbscan_outliers_indices]\n",
    "\n",
    "    return score"
   ]
  },
  {
   "cell_type": "code",
   "execution_count": 29,
   "id": "16074f4e",
   "metadata": {},
   "outputs": [
    {
     "name": "stderr",
     "output_type": "stream",
     "text": [
      "[I 2025-09-30 19:40:44,989] A new study created in memory with name: no-name-f3feece5-d1e4-4a73-82c7-fa4567c3fd9a\n"
     ]
    },
    {
     "name": "stderr",
     "output_type": "stream",
     "text": [
      "[I 2025-09-30 19:40:45,089] Trial 0 finished with value: -0.33151046534897993 and parameters: {}. Best is trial 0 with value: -0.33151046534897993.\n",
      "[I 2025-09-30 19:40:45,100] Trial 1 finished with value: -0.33151046534897993 and parameters: {}. Best is trial 0 with value: -0.33151046534897993.\n",
      "[I 2025-09-30 19:40:45,107] Trial 2 finished with value: -0.33151046534897993 and parameters: {}. Best is trial 0 with value: -0.33151046534897993.\n"
     ]
    }
   ],
   "source": [
    "import optuna\n",
    "\n",
    "\n",
    "study = optuna.create_study()\n",
    "\n",
    "\n",
    "study.optimize(objective, n_trials = 3)"
   ]
  }
 ],
 "metadata": {
  "kernelspec": {
   "display_name": "Python 3",
   "language": "python",
   "name": "python3"
  },
  "language_info": {
   "codemirror_mode": {
    "name": "ipython",
    "version": 3
   },
   "file_extension": ".py",
   "mimetype": "text/x-python",
   "name": "python",
   "nbconvert_exporter": "python",
   "pygments_lexer": "ipython3",
   "version": "3.12.1"
  }
 },
 "nbformat": 4,
 "nbformat_minor": 5
}
