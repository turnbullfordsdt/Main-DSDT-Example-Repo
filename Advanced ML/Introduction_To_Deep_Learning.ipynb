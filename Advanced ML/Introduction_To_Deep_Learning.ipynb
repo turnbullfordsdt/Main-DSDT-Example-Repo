{
  "nbformat": 4,
  "nbformat_minor": 0,
  "metadata": {
    "colab": {
      "provenance": [],
      "authorship_tag": "ABX9TyMysqqZXeMTRUgURJ3teC82",
      "include_colab_link": true
    },
    "kernelspec": {
      "name": "python3",
      "display_name": "Python 3"
    },
    "language_info": {
      "name": "python"
    }
  },
  "cells": [
    {
      "cell_type": "markdown",
      "metadata": {
        "id": "view-in-github",
        "colab_type": "text"
      },
      "source": [
        "<a href=\"https://colab.research.google.com/github/turnbullfordsdt/Main-DSDT-Example-Repo/blob/main/Introduction_To_Deep_Learning.ipynb\" target=\"_parent\"><img src=\"https://colab.research.google.com/assets/colab-badge.svg\" alt=\"Open In Colab\"/></a>"
      ]
    },
    {
      "cell_type": "code",
      "execution_count": null,
      "metadata": {
        "id": "u2wqGZb1F8t7"
      },
      "outputs": [],
      "source": [
        "# import and pad imdb from keras\n",
        "from tensorflow.keras.datasets import imdb\n",
        "from tensorflow.keras.preprocessing.sequence import pad_sequences\n",
        "\n",
        "\n",
        "\n",
        "# load the data\n",
        "(X_train, y_train), (X_test, y_test) = imdb.load_data(num_words=10000)\n",
        "# pad the sequences to have the same length\n",
        "X_train = pad_sequences(X_train, maxlen=500)\n",
        "X_test = pad_sequences(X_test, maxlen=500)"
      ]
    },
    {
      "cell_type": "code",
      "source": [
        "from tensorflow.keras import Sequential\n",
        "from tensorflow.keras.layers import Dense"
      ],
      "metadata": {
        "id": "8TieTJN_F-ls"
      },
      "execution_count": null,
      "outputs": []
    },
    {
      "cell_type": "code",
      "source": [
        "output_layer = Dense(1, activation = 'sigmoid')"
      ],
      "metadata": {
        "id": "aEmwv4yqGAgL"
      },
      "execution_count": null,
      "outputs": []
    },
    {
      "cell_type": "code",
      "source": [
        "def objective(trial):\n",
        "    model = Sequential()\n",
        "    layer = Dense(units = suggested_units, activation = 'relu')\n",
        "    model.add(layer)\n",
        ""
      ],
      "metadata": {
        "id": "CtbWtguXGCO8"
      },
      "execution_count": null,
      "outputs": []
    },
    {
      "cell_type": "code",
      "source": [
        "import optuna\n",
        "\n",
        "study = optuna.create_study(direction='minimize')\n",
        "\n",
        "study.optimize(objective, n_trials=10)"
      ],
      "metadata": {
        "id": "RZRizs8AGDtT"
      },
      "execution_count": null,
      "outputs": []
    }
  ]
}