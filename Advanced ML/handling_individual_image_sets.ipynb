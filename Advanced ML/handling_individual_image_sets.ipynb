{
 "cells": [
  {
   "cell_type": "code",
   "execution_count": null,
   "id": "0d8b08ec",
   "metadata": {},
   "outputs": [
    {
     "name": "stderr",
     "output_type": "stream",
     "text": [
      "2025-09-15 19:32:51.247369: I external/local_xla/xla/tsl/cuda/cudart_stub.cc:31] Could not find cuda drivers on your machine, GPU will not be used.\n",
      "2025-09-15 19:33:13.412366: I tensorflow/core/platform/cpu_feature_guard.cc:210] This TensorFlow binary is optimized to use available CPU instructions in performance-critical operations.\n",
      "To enable the following instructions: AVX2 FMA, in other operations, rebuild TensorFlow with the appropriate compiler flags.\n",
      "2025-09-15 19:33:28.051003: I external/local_xla/xla/tsl/cuda/cudart_stub.cc:31] Could not find cuda drivers on your machine, GPU will not be used.\n"
     ]
    }
   ],
   "source": [
    "import tensorflow as tf\n",
    "import os\n"
   ]
  },
  {
   "cell_type": "code",
   "execution_count": null,
   "id": "5b9b0d95",
   "metadata": {},
   "outputs": [],
   "source": [
    "covid_images = []\n",
    "covid_images_path = \"/workspaces/Main-DSDT-Example-Repo/Covid19-dataset/train/Covid\"\n",
    "\n",
    "file_name_list = os.listdir(covid_images_path)\n",
    "\n",
    "for file_name in file_name_list:\n",
    "    full_img_file_path = os.path.join(covid_images_path, file_name)\n",
    "    img = tf.io.read_file(full_img_file_path)\n",
    "    display(img)\n",
    "    covid_images.append(img)"
   ]
  },
  {
   "cell_type": "code",
   "execution_count": null,
   "id": "17c34787",
   "metadata": {},
   "outputs": [],
   "source": [
    "covid_images_numpy = numpy.to_array(covid_images)\n",
    "\n",
    "print(covid_images_numpy.shape)"
   ]
  }
 ],
 "metadata": {
  "kernelspec": {
   "display_name": ".venv",
   "language": "python",
   "name": "python3"
  },
  "language_info": {
   "codemirror_mode": {
    "name": "ipython",
    "version": 3
   },
   "file_extension": ".py",
   "mimetype": "text/x-python",
   "name": "python",
   "nbconvert_exporter": "python",
   "pygments_lexer": "ipython3",
   "version": "3.12.3"
  }
 },
 "nbformat": 4,
 "nbformat_minor": 5
}
