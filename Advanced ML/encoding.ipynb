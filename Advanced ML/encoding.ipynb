{
 "cells": [
  {
   "cell_type": "code",
   "execution_count": 135,
   "id": "abb12d67",
   "metadata": {},
   "outputs": [],
   "source": [
    "from pandas import read_csv\n",
    "dataset = read_csv(\"/workspaces/Main-DSDT-Example-Repo/Advanced ML/non-encoded-data.csv\")"
   ]
  },
  {
   "cell_type": "code",
   "execution_count": 136,
   "id": "5967d1e2",
   "metadata": {},
   "outputs": [
    {
     "data": {
      "text/html": [
       "<div>\n",
       "<style scoped>\n",
       "    .dataframe tbody tr th:only-of-type {\n",
       "        vertical-align: middle;\n",
       "    }\n",
       "\n",
       "    .dataframe tbody tr th {\n",
       "        vertical-align: top;\n",
       "    }\n",
       "\n",
       "    .dataframe thead th {\n",
       "        text-align: right;\n",
       "    }\n",
       "</style>\n",
       "<table border=\"1\" class=\"dataframe\">\n",
       "  <thead>\n",
       "    <tr style=\"text-align: right;\">\n",
       "      <th></th>\n",
       "      <th>Size</th>\n",
       "      <th>Color</th>\n",
       "      <th>Label</th>\n",
       "    </tr>\n",
       "  </thead>\n",
       "  <tbody>\n",
       "    <tr>\n",
       "      <th>0</th>\n",
       "      <td>Small</td>\n",
       "      <td>Red</td>\n",
       "      <td>A</td>\n",
       "    </tr>\n",
       "    <tr>\n",
       "      <th>1</th>\n",
       "      <td>Medium</td>\n",
       "      <td>Blue</td>\n",
       "      <td>B</td>\n",
       "    </tr>\n",
       "    <tr>\n",
       "      <th>2</th>\n",
       "      <td>Large</td>\n",
       "      <td>Green</td>\n",
       "      <td>A</td>\n",
       "    </tr>\n",
       "    <tr>\n",
       "      <th>3</th>\n",
       "      <td>Small</td>\n",
       "      <td>Yellow</td>\n",
       "      <td>C</td>\n",
       "    </tr>\n",
       "    <tr>\n",
       "      <th>4</th>\n",
       "      <td>Large</td>\n",
       "      <td>Purple</td>\n",
       "      <td>B</td>\n",
       "    </tr>\n",
       "  </tbody>\n",
       "</table>\n",
       "</div>"
      ],
      "text/plain": [
       "     Size   Color Label\n",
       "0   Small     Red     A\n",
       "1  Medium    Blue     B\n",
       "2   Large   Green     A\n",
       "3   Small  Yellow     C\n",
       "4   Large  Purple     B"
      ]
     },
     "metadata": {},
     "output_type": "display_data"
    }
   ],
   "source": [
    "display(dataset)"
   ]
  },
  {
   "cell_type": "code",
   "execution_count": 137,
   "id": "0420daae",
   "metadata": {},
   "outputs": [],
   "source": [
    "from sklearn.tree import DecisionTreeClassifier"
   ]
  },
  {
   "cell_type": "code",
   "execution_count": 138,
   "id": "815b35fb",
   "metadata": {},
   "outputs": [],
   "source": [
    "input_data = dataset.drop(columns=[\"Label\"])\n",
    "\n",
    "labels = dataset[\"Label\"]"
   ]
  },
  {
   "cell_type": "code",
   "execution_count": 139,
   "id": "db9de114",
   "metadata": {},
   "outputs": [
    {
     "data": {
      "text/html": [
       "<div>\n",
       "<style scoped>\n",
       "    .dataframe tbody tr th:only-of-type {\n",
       "        vertical-align: middle;\n",
       "    }\n",
       "\n",
       "    .dataframe tbody tr th {\n",
       "        vertical-align: top;\n",
       "    }\n",
       "\n",
       "    .dataframe thead th {\n",
       "        text-align: right;\n",
       "    }\n",
       "</style>\n",
       "<table border=\"1\" class=\"dataframe\">\n",
       "  <thead>\n",
       "    <tr style=\"text-align: right;\">\n",
       "      <th></th>\n",
       "      <th>Size</th>\n",
       "      <th>Color</th>\n",
       "    </tr>\n",
       "  </thead>\n",
       "  <tbody>\n",
       "    <tr>\n",
       "      <th>0</th>\n",
       "      <td>Small</td>\n",
       "      <td>Red</td>\n",
       "    </tr>\n",
       "    <tr>\n",
       "      <th>1</th>\n",
       "      <td>Medium</td>\n",
       "      <td>Blue</td>\n",
       "    </tr>\n",
       "    <tr>\n",
       "      <th>2</th>\n",
       "      <td>Large</td>\n",
       "      <td>Green</td>\n",
       "    </tr>\n",
       "    <tr>\n",
       "      <th>3</th>\n",
       "      <td>Small</td>\n",
       "      <td>Yellow</td>\n",
       "    </tr>\n",
       "    <tr>\n",
       "      <th>4</th>\n",
       "      <td>Large</td>\n",
       "      <td>Purple</td>\n",
       "    </tr>\n",
       "  </tbody>\n",
       "</table>\n",
       "</div>"
      ],
      "text/plain": [
       "     Size   Color\n",
       "0   Small     Red\n",
       "1  Medium    Blue\n",
       "2   Large   Green\n",
       "3   Small  Yellow\n",
       "4   Large  Purple"
      ]
     },
     "metadata": {},
     "output_type": "display_data"
    }
   ],
   "source": [
    "display(input_data)"
   ]
  },
  {
   "cell_type": "code",
   "execution_count": 140,
   "id": "a55a7dac",
   "metadata": {},
   "outputs": [
    {
     "data": {
      "text/plain": [
       "0    A\n",
       "1    B\n",
       "2    A\n",
       "3    C\n",
       "4    B\n",
       "Name: Label, dtype: object"
      ]
     },
     "metadata": {},
     "output_type": "display_data"
    }
   ],
   "source": [
    "display(labels)"
   ]
  },
  {
   "cell_type": "code",
   "execution_count": 141,
   "id": "b48ec36f",
   "metadata": {},
   "outputs": [],
   "source": [
    "# model = DecisionTreeClassifier()\n",
    "# model.fit(input_data, labels)"
   ]
  },
  {
   "cell_type": "code",
   "execution_count": 142,
   "id": "5d940a99",
   "metadata": {},
   "outputs": [
    {
     "data": {
      "text/plain": [
       "0     Small\n",
       "1    Medium\n",
       "2     Large\n",
       "3     Small\n",
       "4     Large\n",
       "Name: Size, dtype: object"
      ]
     },
     "execution_count": 142,
     "metadata": {},
     "output_type": "execute_result"
    }
   ],
   "source": [
    "dataset[\"Size\"]"
   ]
  },
  {
   "cell_type": "code",
   "execution_count": 143,
   "id": "fd7df777",
   "metadata": {},
   "outputs": [],
   "source": [
    "encoding_dictionary = {}\n",
    "\n",
    "# ORDER MATTERS\n",
    "encoding_dictionary[\"Medium\"] = 33\n",
    "encoding_dictionary[\"Small\"] = 64\n",
    "encoding_dictionary[\"Large\"] = 108"
   ]
  },
  {
   "cell_type": "code",
   "execution_count": 144,
   "id": "c089acd9",
   "metadata": {},
   "outputs": [],
   "source": [
    "non_encoded_column = dataset[\"Size\"]\n",
    "\n",
    "encoded_column = non_encoded_column.map(encoding_dictionary)\n",
    "\n",
    "dataset[\"Ordinally Encoded Size\"] = encoded_column"
   ]
  },
  {
   "cell_type": "code",
   "execution_count": 145,
   "id": "aaad5ac0",
   "metadata": {},
   "outputs": [],
   "source": [
    "dataset[\"Ordinally Encoded Size\"] = dataset[\"Size\"].map({\n",
    "    \"Medium\": 33,\n",
    "    \"Small\": 64,\n",
    "    \"Large\": 108\n",
    "})"
   ]
  },
  {
   "cell_type": "code",
   "execution_count": 146,
   "id": "4480cd91",
   "metadata": {},
   "outputs": [
    {
     "data": {
      "text/html": [
       "<div>\n",
       "<style scoped>\n",
       "    .dataframe tbody tr th:only-of-type {\n",
       "        vertical-align: middle;\n",
       "    }\n",
       "\n",
       "    .dataframe tbody tr th {\n",
       "        vertical-align: top;\n",
       "    }\n",
       "\n",
       "    .dataframe thead th {\n",
       "        text-align: right;\n",
       "    }\n",
       "</style>\n",
       "<table border=\"1\" class=\"dataframe\">\n",
       "  <thead>\n",
       "    <tr style=\"text-align: right;\">\n",
       "      <th></th>\n",
       "      <th>Size</th>\n",
       "      <th>Color</th>\n",
       "      <th>Label</th>\n",
       "      <th>Ordinally Encoded Size</th>\n",
       "    </tr>\n",
       "  </thead>\n",
       "  <tbody>\n",
       "    <tr>\n",
       "      <th>0</th>\n",
       "      <td>Small</td>\n",
       "      <td>Red</td>\n",
       "      <td>A</td>\n",
       "      <td>64</td>\n",
       "    </tr>\n",
       "    <tr>\n",
       "      <th>1</th>\n",
       "      <td>Medium</td>\n",
       "      <td>Blue</td>\n",
       "      <td>B</td>\n",
       "      <td>33</td>\n",
       "    </tr>\n",
       "    <tr>\n",
       "      <th>2</th>\n",
       "      <td>Large</td>\n",
       "      <td>Green</td>\n",
       "      <td>A</td>\n",
       "      <td>108</td>\n",
       "    </tr>\n",
       "    <tr>\n",
       "      <th>3</th>\n",
       "      <td>Small</td>\n",
       "      <td>Yellow</td>\n",
       "      <td>C</td>\n",
       "      <td>64</td>\n",
       "    </tr>\n",
       "    <tr>\n",
       "      <th>4</th>\n",
       "      <td>Large</td>\n",
       "      <td>Purple</td>\n",
       "      <td>B</td>\n",
       "      <td>108</td>\n",
       "    </tr>\n",
       "  </tbody>\n",
       "</table>\n",
       "</div>"
      ],
      "text/plain": [
       "     Size   Color Label  Ordinally Encoded Size\n",
       "0   Small     Red     A                      64\n",
       "1  Medium    Blue     B                      33\n",
       "2   Large   Green     A                     108\n",
       "3   Small  Yellow     C                      64\n",
       "4   Large  Purple     B                     108"
      ]
     },
     "execution_count": 146,
     "metadata": {},
     "output_type": "execute_result"
    }
   ],
   "source": [
    "dataset"
   ]
  },
  {
   "cell_type": "code",
   "execution_count": 147,
   "id": "f2a6b505",
   "metadata": {},
   "outputs": [],
   "source": [
    "dataset['RoofType'] = ['Brick', 'Metal', 'Ashpalt', 'Wood', 'Wood']"
   ]
  },
  {
   "cell_type": "code",
   "execution_count": 148,
   "id": "625eb039",
   "metadata": {},
   "outputs": [
    {
     "data": {
      "text/html": [
       "<div>\n",
       "<style scoped>\n",
       "    .dataframe tbody tr th:only-of-type {\n",
       "        vertical-align: middle;\n",
       "    }\n",
       "\n",
       "    .dataframe tbody tr th {\n",
       "        vertical-align: top;\n",
       "    }\n",
       "\n",
       "    .dataframe thead th {\n",
       "        text-align: right;\n",
       "    }\n",
       "</style>\n",
       "<table border=\"1\" class=\"dataframe\">\n",
       "  <thead>\n",
       "    <tr style=\"text-align: right;\">\n",
       "      <th></th>\n",
       "      <th>Size</th>\n",
       "      <th>Color</th>\n",
       "      <th>Label</th>\n",
       "      <th>Ordinally Encoded Size</th>\n",
       "      <th>RoofType</th>\n",
       "    </tr>\n",
       "  </thead>\n",
       "  <tbody>\n",
       "    <tr>\n",
       "      <th>0</th>\n",
       "      <td>Small</td>\n",
       "      <td>Red</td>\n",
       "      <td>A</td>\n",
       "      <td>64</td>\n",
       "      <td>Brick</td>\n",
       "    </tr>\n",
       "    <tr>\n",
       "      <th>1</th>\n",
       "      <td>Medium</td>\n",
       "      <td>Blue</td>\n",
       "      <td>B</td>\n",
       "      <td>33</td>\n",
       "      <td>Metal</td>\n",
       "    </tr>\n",
       "    <tr>\n",
       "      <th>2</th>\n",
       "      <td>Large</td>\n",
       "      <td>Green</td>\n",
       "      <td>A</td>\n",
       "      <td>108</td>\n",
       "      <td>Ashpalt</td>\n",
       "    </tr>\n",
       "    <tr>\n",
       "      <th>3</th>\n",
       "      <td>Small</td>\n",
       "      <td>Yellow</td>\n",
       "      <td>C</td>\n",
       "      <td>64</td>\n",
       "      <td>Wood</td>\n",
       "    </tr>\n",
       "    <tr>\n",
       "      <th>4</th>\n",
       "      <td>Large</td>\n",
       "      <td>Purple</td>\n",
       "      <td>B</td>\n",
       "      <td>108</td>\n",
       "      <td>Wood</td>\n",
       "    </tr>\n",
       "  </tbody>\n",
       "</table>\n",
       "</div>"
      ],
      "text/plain": [
       "     Size   Color Label  Ordinally Encoded Size RoofType\n",
       "0   Small     Red     A                      64    Brick\n",
       "1  Medium    Blue     B                      33    Metal\n",
       "2   Large   Green     A                     108  Ashpalt\n",
       "3   Small  Yellow     C                      64     Wood\n",
       "4   Large  Purple     B                     108     Wood"
      ]
     },
     "execution_count": 148,
     "metadata": {},
     "output_type": "execute_result"
    }
   ],
   "source": [
    "dataset"
   ]
  },
  {
   "cell_type": "code",
   "execution_count": 149,
   "id": "b351a437",
   "metadata": {},
   "outputs": [
    {
     "data": {
      "text/plain": [
       "0      Brick\n",
       "1      Metal\n",
       "2    Ashpalt\n",
       "3       Wood\n",
       "4       Wood\n",
       "Name: RoofType, dtype: object"
      ]
     },
     "execution_count": 149,
     "metadata": {},
     "output_type": "execute_result"
    }
   ],
   "source": [
    "unencoded_column = dataset[\"RoofType\"]\n",
    "\n",
    "unencoded_column"
   ]
  },
  {
   "cell_type": "code",
   "execution_count": 150,
   "id": "99282cef",
   "metadata": {},
   "outputs": [
    {
     "data": {
      "text/html": [
       "<div>\n",
       "<style scoped>\n",
       "    .dataframe tbody tr th:only-of-type {\n",
       "        vertical-align: middle;\n",
       "    }\n",
       "\n",
       "    .dataframe tbody tr th {\n",
       "        vertical-align: top;\n",
       "    }\n",
       "\n",
       "    .dataframe thead th {\n",
       "        text-align: right;\n",
       "    }\n",
       "</style>\n",
       "<table border=\"1\" class=\"dataframe\">\n",
       "  <thead>\n",
       "    <tr style=\"text-align: right;\">\n",
       "      <th></th>\n",
       "      <th>Ashpalt</th>\n",
       "      <th>Brick</th>\n",
       "      <th>Metal</th>\n",
       "      <th>Wood</th>\n",
       "    </tr>\n",
       "  </thead>\n",
       "  <tbody>\n",
       "    <tr>\n",
       "      <th>0</th>\n",
       "      <td>False</td>\n",
       "      <td>True</td>\n",
       "      <td>False</td>\n",
       "      <td>False</td>\n",
       "    </tr>\n",
       "    <tr>\n",
       "      <th>1</th>\n",
       "      <td>False</td>\n",
       "      <td>False</td>\n",
       "      <td>True</td>\n",
       "      <td>False</td>\n",
       "    </tr>\n",
       "    <tr>\n",
       "      <th>2</th>\n",
       "      <td>True</td>\n",
       "      <td>False</td>\n",
       "      <td>False</td>\n",
       "      <td>False</td>\n",
       "    </tr>\n",
       "    <tr>\n",
       "      <th>3</th>\n",
       "      <td>False</td>\n",
       "      <td>False</td>\n",
       "      <td>False</td>\n",
       "      <td>True</td>\n",
       "    </tr>\n",
       "    <tr>\n",
       "      <th>4</th>\n",
       "      <td>False</td>\n",
       "      <td>False</td>\n",
       "      <td>False</td>\n",
       "      <td>True</td>\n",
       "    </tr>\n",
       "  </tbody>\n",
       "</table>\n",
       "</div>"
      ],
      "text/plain": [
       "   Ashpalt  Brick  Metal   Wood\n",
       "0    False   True  False  False\n",
       "1    False  False   True  False\n",
       "2     True  False  False  False\n",
       "3    False  False  False   True\n",
       "4    False  False  False   True"
      ]
     },
     "execution_count": 150,
     "metadata": {},
     "output_type": "execute_result"
    }
   ],
   "source": [
    "from pandas import get_dummies #one hot encoding\n",
    "\n",
    "encoded_frame = get_dummies(unencoded_column)\n",
    "encoded_frame"
   ]
  },
  {
   "cell_type": "code",
   "execution_count": 151,
   "id": "7163fb1c",
   "metadata": {},
   "outputs": [
    {
     "data": {
      "text/plain": [
       "Index(['Ashpalt', 'Brick', 'Metal', 'Wood'], dtype='object')"
      ]
     },
     "execution_count": 151,
     "metadata": {},
     "output_type": "execute_result"
    }
   ],
   "source": [
    "encoded_frame.columns"
   ]
  },
  {
   "cell_type": "code",
   "execution_count": 152,
   "id": "1dbc3b67",
   "metadata": {},
   "outputs": [
    {
     "data": {
      "text/html": [
       "<div>\n",
       "<style scoped>\n",
       "    .dataframe tbody tr th:only-of-type {\n",
       "        vertical-align: middle;\n",
       "    }\n",
       "\n",
       "    .dataframe tbody tr th {\n",
       "        vertical-align: top;\n",
       "    }\n",
       "\n",
       "    .dataframe thead th {\n",
       "        text-align: right;\n",
       "    }\n",
       "</style>\n",
       "<table border=\"1\" class=\"dataframe\">\n",
       "  <thead>\n",
       "    <tr style=\"text-align: right;\">\n",
       "      <th></th>\n",
       "      <th>Size</th>\n",
       "      <th>Color</th>\n",
       "      <th>Label</th>\n",
       "      <th>Ordinally Encoded Size</th>\n",
       "      <th>RoofType</th>\n",
       "      <th>Ashpalt</th>\n",
       "      <th>Brick</th>\n",
       "      <th>Metal</th>\n",
       "      <th>Wood</th>\n",
       "    </tr>\n",
       "  </thead>\n",
       "  <tbody>\n",
       "    <tr>\n",
       "      <th>0</th>\n",
       "      <td>Small</td>\n",
       "      <td>Red</td>\n",
       "      <td>A</td>\n",
       "      <td>64</td>\n",
       "      <td>Brick</td>\n",
       "      <td>False</td>\n",
       "      <td>True</td>\n",
       "      <td>False</td>\n",
       "      <td>False</td>\n",
       "    </tr>\n",
       "    <tr>\n",
       "      <th>1</th>\n",
       "      <td>Medium</td>\n",
       "      <td>Blue</td>\n",
       "      <td>B</td>\n",
       "      <td>33</td>\n",
       "      <td>Metal</td>\n",
       "      <td>False</td>\n",
       "      <td>False</td>\n",
       "      <td>True</td>\n",
       "      <td>False</td>\n",
       "    </tr>\n",
       "    <tr>\n",
       "      <th>2</th>\n",
       "      <td>Large</td>\n",
       "      <td>Green</td>\n",
       "      <td>A</td>\n",
       "      <td>108</td>\n",
       "      <td>Ashpalt</td>\n",
       "      <td>True</td>\n",
       "      <td>False</td>\n",
       "      <td>False</td>\n",
       "      <td>False</td>\n",
       "    </tr>\n",
       "    <tr>\n",
       "      <th>3</th>\n",
       "      <td>Small</td>\n",
       "      <td>Yellow</td>\n",
       "      <td>C</td>\n",
       "      <td>64</td>\n",
       "      <td>Wood</td>\n",
       "      <td>False</td>\n",
       "      <td>False</td>\n",
       "      <td>False</td>\n",
       "      <td>True</td>\n",
       "    </tr>\n",
       "    <tr>\n",
       "      <th>4</th>\n",
       "      <td>Large</td>\n",
       "      <td>Purple</td>\n",
       "      <td>B</td>\n",
       "      <td>108</td>\n",
       "      <td>Wood</td>\n",
       "      <td>False</td>\n",
       "      <td>False</td>\n",
       "      <td>False</td>\n",
       "      <td>True</td>\n",
       "    </tr>\n",
       "  </tbody>\n",
       "</table>\n",
       "</div>"
      ],
      "text/plain": [
       "     Size   Color Label  Ordinally Encoded Size RoofType  Ashpalt  Brick  \\\n",
       "0   Small     Red     A                      64    Brick    False   True   \n",
       "1  Medium    Blue     B                      33    Metal    False  False   \n",
       "2   Large   Green     A                     108  Ashpalt     True  False   \n",
       "3   Small  Yellow     C                      64     Wood    False  False   \n",
       "4   Large  Purple     B                     108     Wood    False  False   \n",
       "\n",
       "   Metal   Wood  \n",
       "0  False  False  \n",
       "1   True  False  \n",
       "2  False  False  \n",
       "3  False   True  \n",
       "4  False   True  "
      ]
     },
     "execution_count": 152,
     "metadata": {},
     "output_type": "execute_result"
    }
   ],
   "source": [
    "dataset[encoded_frame.columns] = encoded_frame\n",
    "\n",
    "dataset"
   ]
  },
  {
   "cell_type": "code",
   "execution_count": 153,
   "id": "24d7ef88",
   "metadata": {},
   "outputs": [
    {
     "data": {
      "text/plain": [
       "numpy.ndarray"
      ]
     },
     "execution_count": 153,
     "metadata": {},
     "output_type": "execute_result"
    }
   ],
   "source": [
    "dataset = dataset.to_numpy()\n",
    "\n",
    "type(dataset)"
   ]
  },
  {
   "cell_type": "code",
   "execution_count": 154,
   "id": "5ed94f9c",
   "metadata": {},
   "outputs": [
    {
     "data": {
      "text/plain": [
       "array([['Small', 'Red', 'A', 64, 'Brick', False, True, False, False],\n",
       "       ['Medium', 'Blue', 'B', 33, 'Metal', False, False, True, False],\n",
       "       ['Large', 'Green', 'A', 108, 'Ashpalt', True, False, False, False],\n",
       "       ['Small', 'Yellow', 'C', 64, 'Wood', False, False, False, True],\n",
       "       ['Large', 'Purple', 'B', 108, 'Wood', False, False, False, True]],\n",
       "      dtype=object)"
      ]
     },
     "metadata": {},
     "output_type": "display_data"
    }
   ],
   "source": [
    "display(dataset)"
   ]
  }
 ],
 "metadata": {
  "kernelspec": {
   "display_name": "Python 3",
   "language": "python",
   "name": "python3"
  },
  "language_info": {
   "codemirror_mode": {
    "name": "ipython",
    "version": 3
   },
   "file_extension": ".py",
   "mimetype": "text/x-python",
   "name": "python",
   "nbconvert_exporter": "python",
   "pygments_lexer": "ipython3",
   "version": "3.12.1"
  }
 },
 "nbformat": 4,
 "nbformat_minor": 5
}
