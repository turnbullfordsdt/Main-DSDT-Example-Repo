{
 "cells": [
  {
   "cell_type": "code",
   "execution_count": 1,
   "id": "a3ea813a",
   "metadata": {},
   "outputs": [],
   "source": [
    "import os\n",
    "\n",
    "import imageio\n",
    "\n",
    "main_folder_path = \"/workspaces/Main-DSDT-Example-Repo/Advanced ML/Video Datasets/train_v2\"\n",
    "\n",
    "file_path_list = os.listdir(main_folder_path)\n",
    "\n",
    "\n",
    "video_list = []\n",
    "\n",
    "\n",
    "count = 0\n",
    "\n",
    "for file_path in file_path_list:\n",
    "    full_path = main_folder_path + \"/\" + file_path\n",
    "    video = imageio.v3.imread(main_folder_path + \"/\" + file_path)\n",
    "    # write to new folder\n",
    "    video_list.append(video)\n"
   ]
  }
 ],
 "metadata": {
  "kernelspec": {
   "display_name": "Python 3",
   "language": "python",
   "name": "python3"
  },
  "language_info": {
   "codemirror_mode": {
    "name": "ipython",
    "version": 3
   },
   "file_extension": ".py",
   "mimetype": "text/x-python",
   "name": "python",
   "nbconvert_exporter": "python",
   "pygments_lexer": "ipython3",
   "version": "3.12.1"
  }
 },
 "nbformat": 4,
 "nbformat_minor": 5
}
