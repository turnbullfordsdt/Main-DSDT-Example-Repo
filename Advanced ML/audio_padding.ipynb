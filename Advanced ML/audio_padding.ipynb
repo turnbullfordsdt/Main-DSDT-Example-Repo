{
 "cells": [
  {
   "cell_type": "code",
   "execution_count": null,
   "id": "a3ea813a",
   "metadata": {},
   "outputs": [
    {
     "ename": "",
     "evalue": "",
     "output_type": "error",
     "traceback": [
      "\u001b[1;31mThe Kernel crashed while executing code in the current cell or a previous cell. \n",
      "\u001b[1;31mPlease review the code in the cell(s) to identify a possible cause of the failure. \n",
      "\u001b[1;31mClick <a href='https://aka.ms/vscodeJupyterKernelCrash'>here</a> for more info. \n",
      "\u001b[1;31mView Jupyter <a href='command:jupyter.viewOutput'>log</a> for further details."
     ]
    }
   ],
   "source": [
    "import os\n",
    "\n",
    "import imageio\n",
    "\n",
    "main_folder_path = \"/workspaces/Main-DSDT-Example-Repo/Advanced ML/Video Datasets/train\"\n",
    "\n",
    "file_path_list = os.listdir(main_folder_path)\n",
    "\n",
    "\n",
    "video_list = []\n",
    "\n",
    "\n",
    "count = 0\n",
    "\n",
    "\n",
    "for file_path in file_path_list:\n",
    "    # full_path = main_folder_path + \"/\" + file_path\n",
    "    # video = imageio.v3.imread(main_folder_path + \"/\" + file_path)\n",
    "    video_list.append(imageio.v3.imread(main_folder_path + \"/\" + file_path))\n",
    "    count += 1\n",
    "    print(count)\n"
   ]
  }
 ],
 "metadata": {
  "kernelspec": {
   "display_name": "Python 3",
   "language": "python",
   "name": "python3"
  },
  "language_info": {
   "codemirror_mode": {
    "name": "ipython",
    "version": 3
   },
   "file_extension": ".py",
   "mimetype": "text/x-python",
   "name": "python",
   "nbconvert_exporter": "python",
   "pygments_lexer": "ipython3",
   "version": "3.12.1"
  }
 },
 "nbformat": 4,
 "nbformat_minor": 5
}
